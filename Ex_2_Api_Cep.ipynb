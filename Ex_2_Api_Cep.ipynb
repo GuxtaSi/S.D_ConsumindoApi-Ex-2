{
  "nbformat": 4,
  "nbformat_minor": 0,
  "metadata": {
    "colab": {
      "provenance": [],
      "authorship_tag": "ABX9TyM0Jo4Nk3QbA3jXSk2tAURT",
      "include_colab_link": true
    },
    "kernelspec": {
      "name": "python3",
      "display_name": "Python 3"
    },
    "language_info": {
      "name": "python"
    }
  },
  "cells": [
    {
      "cell_type": "markdown",
      "metadata": {
        "id": "view-in-github",
        "colab_type": "text"
      },
      "source": [
        "<a href=\"https://colab.research.google.com/github/GuxtaSi/sistemas_distribuidos_ConsumindoApi/blob/main/Ex_2_Api_Cep.ipynb\" target=\"_parent\"><img src=\"https://colab.research.google.com/assets/colab-badge.svg\" alt=\"Open In Colab\"/></a>"
      ]
    },
    {
      "cell_type": "code",
      "execution_count": 4,
      "metadata": {
        "colab": {
          "base_uri": "https://localhost:8080/"
        },
        "id": "fYrstfqFy3JE",
        "outputId": "d804cb58-4ee5-4570-e804-a04eebe6b557"
      },
      "outputs": [
        {
          "output_type": "stream",
          "name": "stdout",
          "text": [
            "Looking in indexes: https://pypi.org/simple, https://us-python.pkg.dev/colab-wheels/public/simple/\n",
            "Requirement already satisfied: requests in /usr/local/lib/python3.7/dist-packages (2.23.0)\n",
            "Requirement already satisfied: urllib3!=1.25.0,!=1.25.1,<1.26,>=1.21.1 in /usr/local/lib/python3.7/dist-packages (from requests) (1.24.3)\n",
            "Requirement already satisfied: chardet<4,>=3.0.2 in /usr/local/lib/python3.7/dist-packages (from requests) (3.0.4)\n",
            "Requirement already satisfied: certifi>=2017.4.17 in /usr/local/lib/python3.7/dist-packages (from requests) (2022.6.15)\n",
            "Requirement already satisfied: idna<3,>=2.5 in /usr/local/lib/python3.7/dist-packages (from requests) (2.10)\n"
          ]
        }
      ],
      "source": [
        "!pip install requests\n"
      ]
    },
    {
      "cell_type": "code",
      "source": [
        "import requests\n",
        "\n",
        "cep='34002251'\n",
        "\n",
        "cep = cep.replace(\"-\", \"/n\").replace(\".\", \"/n\").replace(\" \", \"/n\")\n",
        "\n",
        "if len(cep) == 8:\n",
        "    link = f'https://viacep.com.br/ws/{cep}/json/'\n",
        "\n",
        "    requisicao = requests.get(link)\n",
        "\n",
        "    print(requisicao)\n",
        "\n",
        "    dic_requisicao = requisicao.json()\n",
        "\n",
        "    uf = dic_requisicao['uf']\n",
        "    cidade = dic_requisicao['localidade']\n",
        "    bairro = dic_requisicao['bairro']\n",
        "    print(dic_requisicao)\n",
        "else:\n",
        "    print(\"CEP Inválido\")\n"
      ],
      "metadata": {
        "colab": {
          "base_uri": "https://localhost:8080/"
        },
        "id": "SWGqf8rPzvuM",
        "outputId": "78c58886-22af-4a0c-9568-4b358397dfd6"
      },
      "execution_count": 20,
      "outputs": [
        {
          "output_type": "stream",
          "name": "stdout",
          "text": [
            "<Response [200]>\n",
            "{'cep': '34002-251', 'logradouro': 'Rua C', 'complemento': '', 'bairro': 'Vila Monte Castelo', 'localidade': 'Nova Lima', 'uf': 'MG', 'ibge': '3144805', 'gia': '', 'ddd': '31', 'siafi': '4895'}\n"
          ]
        }
      ]
    }
  ]
}